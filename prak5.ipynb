{
 "cells": [
  {
   "cell_type": "code",
   "execution_count": 2,
   "metadata": {},
   "outputs": [
    {
     "name": "stdout",
     "output_type": "stream",
     "text": [
      "[[2 1 0]\n",
      " [1 2 1]\n",
      " [0 1 2]]\n"
     ]
    }
   ],
   "source": [
    "import numpy as np\n",
    "\n",
    "A=np.array([[2,1,0],[1,2,1],[0,1,2]])\n",
    "print(A)"
   ]
  },
  {
   "cell_type": "code",
   "execution_count": 3,
   "metadata": {},
   "outputs": [
    {
     "name": "stdout",
     "output_type": "stream",
     "text": [
      "[[1 2 1]\n",
      " [2 1 0]\n",
      " [0 1 2]]\n"
     ]
    }
   ],
   "source": [
    "A[[0,1]]=A[[1,0]]\n",
    "print(A)"
   ]
  },
  {
   "cell_type": "code",
   "execution_count": 4,
   "metadata": {},
   "outputs": [
    {
     "name": "stdout",
     "output_type": "stream",
     "text": [
      "[[ 1  2  1]\n",
      " [ 0 -3 -2]\n",
      " [ 0  1  2]]\n"
     ]
    }
   ],
   "source": [
    "A[1]=-2*A[0] + A[1]\n",
    "print(A)"
   ]
  },
  {
   "cell_type": "code",
   "execution_count": 5,
   "metadata": {},
   "outputs": [
    {
     "name": "stdout",
     "output_type": "stream",
     "text": [
      "[[ 1  2  1]\n",
      " [ 0  1  2]\n",
      " [ 0 -3 -2]]\n"
     ]
    }
   ],
   "source": [
    "A[[1,2]]=A[[2,1]]\n",
    "print(A)"
   ]
  },
  {
   "cell_type": "code",
   "execution_count": 6,
   "metadata": {},
   "outputs": [
    {
     "name": "stdout",
     "output_type": "stream",
     "text": [
      "[[1 2 1]\n",
      " [0 1 2]\n",
      " [0 0 4]]\n"
     ]
    }
   ],
   "source": [
    "A[2]=3*A[1]+A[2]\n",
    "print(A)"
   ]
  },
  {
   "cell_type": "code",
   "execution_count": 9,
   "metadata": {},
   "outputs": [
    {
     "name": "stdout",
     "output_type": "stream",
     "text": [
      "Determinan A: 4\n"
     ]
    }
   ],
   "source": [
    "DetA=1*1*4\n",
    "print(\"Determinan A:\", DetA)"
   ]
  },
  {
   "cell_type": "code",
   "execution_count": 10,
   "metadata": {},
   "outputs": [
    {
     "name": "stdout",
     "output_type": "stream",
     "text": [
      "[1 1 4]\n"
     ]
    }
   ],
   "source": [
    "diagA=np.diag(A)\n",
    "print(diagA)"
   ]
  },
  {
   "cell_type": "code",
   "execution_count": 12,
   "metadata": {},
   "outputs": [
    {
     "name": "stdout",
     "output_type": "stream",
     "text": [
      "4\n"
     ]
    }
   ],
   "source": [
    "detA=np.prod(diagA)\n",
    "print(detA)"
   ]
  },
  {
   "cell_type": "code",
   "execution_count": 13,
   "metadata": {},
   "outputs": [
    {
     "name": "stdout",
     "output_type": "stream",
     "text": [
      "4\n"
     ]
    }
   ],
   "source": [
    "detA=np.prod(np.diag(A))\n",
    "print(detA)"
   ]
  },
  {
   "cell_type": "code",
   "execution_count": 15,
   "metadata": {},
   "outputs": [
    {
     "name": "stdout",
     "output_type": "stream",
     "text": [
      "[[1 2 1]\n",
      " [0 1 2]\n",
      " [0 0 4]]\n",
      "diagonal 1: [1 1 4]\n",
      "diagonal 2: [2 2]\n"
     ]
    }
   ],
   "source": [
    "print(A)\n",
    "diag1=A.diagonal(0)\n",
    "diag2=A.diagonal(1)\n",
    "\n",
    "print(\"diagonal 1:\",diag1)\n",
    "print(\"diagonal 2:\",diag2)"
   ]
  },
  {
   "cell_type": "code",
   "execution_count": 16,
   "metadata": {},
   "outputs": [
    {
     "name": "stdout",
     "output_type": "stream",
     "text": [
      "[[ 3  2 -1]\n",
      " [ 1  1  0]\n",
      " [-2 -2  1]]\n"
     ]
    }
   ],
   "source": [
    "B=np.array([[3,2,-1],[1,1,0],[-2,-2,1]])\n",
    "print(B)"
   ]
  },
  {
   "cell_type": "code",
   "execution_count": 17,
   "metadata": {},
   "outputs": [
    {
     "name": "stdout",
     "output_type": "stream",
     "text": [
      "[[ 3  2 -1  3  2]\n",
      " [ 1  1  0  1  1]\n",
      " [-2 -2  1 -2 -2]]\n"
     ]
    }
   ],
   "source": [
    "B1=np.hstack([B,B[:,:2]])\n",
    "print(B1)"
   ]
  },
  {
   "cell_type": "code",
   "execution_count": 19,
   "metadata": {},
   "outputs": [
    {
     "name": "stdout",
     "output_type": "stream",
     "text": [
      "[[ 3  2 -1  3  2]\n",
      " [ 1  1  0  1  1]\n",
      " [-2 -2  1 -2 -2]]\n",
      "[3 1 1] [ 2  0 -2] [-1  1 -2] [2 1 1] [ 3  0 -2] [-1  1 -2]\n"
     ]
    }
   ],
   "source": [
    "#diagonal miring kiri\n",
    "d1=B1.diagonal(0)\n",
    "d2=B1.diagonal(1)\n",
    "d3=B1.diagonal(2)\n",
    "#diagonal miring kanan\n",
    "d4=np.fliplr(B1).diagonal(0)\n",
    "d5=np.fliplr(B1).diagonal(1)\n",
    "d6=np.fliplr(B1).diagonal(2)\n",
    "\n",
    "print(B1)\n",
    "print(d1,d2,d3,d4,d5,d6)"
   ]
  },
  {
   "cell_type": "code",
   "execution_count": 20,
   "metadata": {},
   "outputs": [
    {
     "name": "stdout",
     "output_type": "stream",
     "text": [
      "1\n"
     ]
    }
   ],
   "source": [
    "detB=np.prod(d1) + np.prod(d2) + np.prod(d3) - np.prod(d4) - np.prod(d5) - np.prod(d6)\n",
    "print(detB)"
   ]
  },
  {
   "cell_type": "code",
   "execution_count": 24,
   "metadata": {},
   "outputs": [
    {
     "name": "stdout",
     "output_type": "stream",
     "text": [
      "[[1 2 1]\n",
      " [0 1 2]\n",
      " [0 0 4]]\n",
      "[[2 1]\n",
      " [1 2]]\n",
      "miror 31= 3\n"
     ]
    }
   ],
   "source": [
    "print(A)\n",
    "M31=np.delete(np.delete (A,2,axis=0), 0, axis=1)\n",
    "print(M31)\n",
    "\n",
    "m31=np.prod(np.diag(M31))-np.prod(np.diag(np.fliplr(M31)))\n",
    "print(\"miror 31=\", m31)"
   ]
  },
  {
   "cell_type": "code",
   "execution_count": 23,
   "metadata": {},
   "outputs": [
    {
     "name": "stdout",
     "output_type": "stream",
     "text": [
      "3\n"
     ]
    }
   ],
   "source": [
    "C31=((-1)**(3+1))*m31\n",
    "print(C31)"
   ]
  },
  {
   "cell_type": "code",
   "execution_count": 25,
   "metadata": {},
   "outputs": [
    {
     "name": "stdout",
     "output_type": "stream",
     "text": [
      "[[1 1]\n",
      " [0 2]]\n",
      "miror 32= 2\n",
      "[[1 2]\n",
      " [0 1]]\n",
      "miror 33= 1\n"
     ]
    }
   ],
   "source": [
    "M32=np.delete(np.delete (A,2,axis=0), 1, axis=1)\n",
    "print(M32)\n",
    "\n",
    "m32=np.prod(np.diag(M32))-np.prod(np.diag(np.fliplr(M32)))\n",
    "print(\"miror 32=\", m32)\n",
    "\n",
    "M33=np.delete(np.delete (A,2,axis=0), 2, axis=1)\n",
    "print(M33)\n",
    "\n",
    "m33=np.prod(np.diag(M33))-np.prod(np.diag(np.fliplr(M33)))\n",
    "print(\"miror 33=\", m33)"
   ]
  },
  {
   "cell_type": "code",
   "execution_count": 27,
   "metadata": {},
   "outputs": [
    {
     "name": "stdout",
     "output_type": "stream",
     "text": [
      "-2\n",
      "1\n"
     ]
    }
   ],
   "source": [
    "C32=((-1)**(3+2))*m32\n",
    "print(C32)\n",
    "C33=((-1)**(3+3))*m33\n",
    "print(C33)"
   ]
  },
  {
   "cell_type": "code",
   "execution_count": null,
   "metadata": {},
   "outputs": [],
   "source": []
  }
 ],
 "metadata": {
  "kernelspec": {
   "display_name": "Python 3",
   "language": "python",
   "name": "python3"
  },
  "language_info": {
   "codemirror_mode": {
    "name": "ipython",
    "version": 3
   },
   "file_extension": ".py",
   "mimetype": "text/x-python",
   "name": "python",
   "nbconvert_exporter": "python",
   "pygments_lexer": "ipython3",
   "version": "3.6.5"
  }
 },
 "nbformat": 4,
 "nbformat_minor": 2
}
